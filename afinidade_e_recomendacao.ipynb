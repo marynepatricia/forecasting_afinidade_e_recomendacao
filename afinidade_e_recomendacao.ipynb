{
 "cells": [
  {
   "cell_type": "code",
   "execution_count": 5,
   "id": "89372dc2-2a3d-430c-a0d0-228cffe331df",
   "metadata": {},
   "outputs": [],
   "source": [
    "# Importando bibliotecas\n",
    "\n",
    "import pandas as pd\n"
   ]
  },
  {
   "cell_type": "code",
   "execution_count": 6,
   "id": "591fbf84-c9ef-4eb3-b96e-2ef2fbf8892f",
   "metadata": {},
   "outputs": [
    {
     "data": {
      "text/html": [
       "<div>\n",
       "<style scoped>\n",
       "    .dataframe tbody tr th:only-of-type {\n",
       "        vertical-align: middle;\n",
       "    }\n",
       "\n",
       "    .dataframe tbody tr th {\n",
       "        vertical-align: top;\n",
       "    }\n",
       "\n",
       "    .dataframe thead th {\n",
       "        text-align: right;\n",
       "    }\n",
       "</style>\n",
       "<table border=\"1\" class=\"dataframe\">\n",
       "  <thead>\n",
       "    <tr style=\"text-align: right;\">\n",
       "      <th></th>\n",
       "      <th>userId</th>\n",
       "      <th>ItemId</th>\n",
       "    </tr>\n",
       "  </thead>\n",
       "  <tbody>\n",
       "    <tr>\n",
       "      <th>0</th>\n",
       "      <td>6219</td>\n",
       "      <td>77635299</td>\n",
       "    </tr>\n",
       "    <tr>\n",
       "      <th>1</th>\n",
       "      <td>6220</td>\n",
       "      <td>77635299</td>\n",
       "    </tr>\n",
       "    <tr>\n",
       "      <th>2</th>\n",
       "      <td>6221</td>\n",
       "      <td>77635299</td>\n",
       "    </tr>\n",
       "    <tr>\n",
       "      <th>3</th>\n",
       "      <td>6221</td>\n",
       "      <td>77635299</td>\n",
       "    </tr>\n",
       "    <tr>\n",
       "      <th>4</th>\n",
       "      <td>6223</td>\n",
       "      <td>77635299</td>\n",
       "    </tr>\n",
       "  </tbody>\n",
       "</table>\n",
       "</div>"
      ],
      "text/plain": [
       "   userId    ItemId\n",
       "0    6219  77635299\n",
       "1    6220  77635299\n",
       "2    6221  77635299\n",
       "3    6221  77635299\n",
       "4    6223  77635299"
      ]
     },
     "execution_count": 6,
     "metadata": {},
     "output_type": "execute_result"
    }
   ],
   "source": [
    "# Lendo base de dados\n",
    "\n",
    "forecasting = pd.read_csv('data_recomendation.csv')\n",
    "forecasting.head()"
   ]
  },
  {
   "cell_type": "code",
   "execution_count": 7,
   "id": "3863f999-2766-432f-8df0-d923cf5a17c3",
   "metadata": {},
   "outputs": [
    {
     "data": {
      "text/html": [
       "<div>\n",
       "<style scoped>\n",
       "    .dataframe tbody tr th:only-of-type {\n",
       "        vertical-align: middle;\n",
       "    }\n",
       "\n",
       "    .dataframe tbody tr th {\n",
       "        vertical-align: top;\n",
       "    }\n",
       "\n",
       "    .dataframe thead th {\n",
       "        text-align: right;\n",
       "    }\n",
       "</style>\n",
       "<table border=\"1\" class=\"dataframe\">\n",
       "  <thead>\n",
       "    <tr style=\"text-align: right;\">\n",
       "      <th></th>\n",
       "      <th>item1</th>\n",
       "      <th>item2</th>\n",
       "      <th>score</th>\n",
       "    </tr>\n",
       "  </thead>\n",
       "  <tbody>\n",
       "    <tr>\n",
       "      <th>0</th>\n",
       "      <td>77635299.0</td>\n",
       "      <td>77635300.0</td>\n",
       "      <td>0.005780</td>\n",
       "    </tr>\n",
       "    <tr>\n",
       "      <th>1</th>\n",
       "      <td>77635299.0</td>\n",
       "      <td>77635301.0</td>\n",
       "      <td>0.000000</td>\n",
       "    </tr>\n",
       "    <tr>\n",
       "      <th>2</th>\n",
       "      <td>77635299.0</td>\n",
       "      <td>77635303.0</td>\n",
       "      <td>0.219653</td>\n",
       "    </tr>\n",
       "    <tr>\n",
       "      <th>3</th>\n",
       "      <td>77635299.0</td>\n",
       "      <td>77635304.0</td>\n",
       "      <td>0.005780</td>\n",
       "    </tr>\n",
       "    <tr>\n",
       "      <th>4</th>\n",
       "      <td>77635299.0</td>\n",
       "      <td>77635305.0</td>\n",
       "      <td>0.005780</td>\n",
       "    </tr>\n",
       "  </tbody>\n",
       "</table>\n",
       "</div>"
      ],
      "text/plain": [
       "        item1       item2     score\n",
       "0  77635299.0  77635300.0  0.005780\n",
       "1  77635299.0  77635301.0  0.000000\n",
       "2  77635299.0  77635303.0  0.219653\n",
       "3  77635299.0  77635304.0  0.005780\n",
       "4  77635299.0  77635305.0  0.005780"
      ]
     },
     "execution_count": 7,
     "metadata": {},
     "output_type": "execute_result"
    }
   ],
   "source": [
    "# Estabelecendo pontuação de afinidade entre os produtos com base nos usuários que compraram\n",
    "\n",
    "# Obtendo lista de produtos exclusivos\n",
    "\n",
    "itemlist = list(set(forecasting['ItemId'].tolist()))\n",
    "\n",
    "#Contagem de usuários\n",
    "\n",
    "usercount = len(set(forecasting['userId'].tolist()))\n",
    "\n",
    "# Criação de conjunto de dados vazio para armazenamento de pontuação de afinidade de produtos\n",
    "\n",
    "item_affinity = pd.DataFrame(columns=('item1', 'item2', 'score'))\n",
    "rowCount=0\n",
    "\n",
    "# Comparando os produtos\n",
    "\n",
    "for i in range(len(itemlist)):\n",
    "    # Lista de usuários que compraram esse produto\n",
    "    item1users = forecasting[forecasting.ItemId == itemlist[i]]['userId'].tolist()\n",
    "    \n",
    "    # Lista que não são o produto 1 ou que não foram analisados\n",
    "    for j in range (i, len(itemlist)):\n",
    "        if j == i:\n",
    "            continue\n",
    "        else:\n",
    "            item2users = forecasting[forecasting.ItemId == itemlist[j]]['userId'].tolist()\n",
    "            \n",
    "        # Estabelecendo pontuação: Encontrando lista comum de usuários e dividindo-a pelo total de usuários.\n",
    "\n",
    "            commonusers = len(set(item1users).intersection(set(item2users)))\n",
    "            score = commonusers / usercount\n",
    "\n",
    "        # Adicionando uma pontuação para o produto 1 e produto 2:\n",
    "            item_affinity.loc[rowCount] = [itemlist[i],itemlist[j],score]\n",
    "            rowCount += 1\n",
    "        \n",
    "        # Adicionando uma pontuação para o produto 2 e produto 1:\n",
    "            #tem_affinity.loc[rowCount] = [itemlist[j],itemlist[i],score]\n",
    "            #owCount += 1\n",
    "            \n",
    "# Resultado\n",
    "item_affinity.head()"
   ]
  },
  {
   "cell_type": "code",
   "execution_count": 8,
   "id": "ce89fd8d-d463-4fdb-ac17-d51b98ab6d5a",
   "metadata": {},
   "outputs": [
    {
     "name": "stdout",
     "output_type": "stream",
     "text": [
      "          item2     score\n",
      "34   77635342.0  0.410405\n",
      "2    77635303.0  0.219653\n",
      "67   77635393.0  0.208092\n",
      "66   77635392.0  0.202312\n",
      "36   77635344.0  0.179191\n",
      "..          ...       ...\n",
      "89   77635415.0  0.000000\n",
      "22   77635325.0  0.000000\n",
      "93   77635419.0  0.000000\n",
      "95   77635421.0  0.000000\n",
      "116  77635442.0  0.000000\n",
      "\n",
      "[117 rows x 2 columns]\n"
     ]
    }
   ],
   "source": [
    "# Recomendação de produtos\n",
    "\n",
    "searchitem = 77635299\n",
    "recolist = item_affinity[item_affinity.item1 == searchitem][['item2','score']].sort_values('score', ascending = [0])\n",
    "print(recolist)"
   ]
  },
  {
   "cell_type": "code",
   "execution_count": null,
   "id": "ea040b43-6fbc-479d-9ad8-c7531f53468a",
   "metadata": {},
   "outputs": [],
   "source": []
  }
 ],
 "metadata": {
  "kernelspec": {
   "display_name": "Python 3 (ipykernel)",
   "language": "python",
   "name": "python3"
  },
  "language_info": {
   "codemirror_mode": {
    "name": "ipython",
    "version": 3
   },
   "file_extension": ".py",
   "mimetype": "text/x-python",
   "name": "python",
   "nbconvert_exporter": "python",
   "pygments_lexer": "ipython3",
   "version": "3.9.13"
  }
 },
 "nbformat": 4,
 "nbformat_minor": 5
}
